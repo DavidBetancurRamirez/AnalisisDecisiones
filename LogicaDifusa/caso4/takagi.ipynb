{
 "cells": [
  {
   "cell_type": "markdown",
   "metadata": {},
   "source": [
    "# CASO 4 - Problema Aseguradora\n",
    "\n",
    "El equipo de riesgos de una aseguradora está buscando una manera diferente de tasar las primas de seguro asociado al comportamiento de los clientes, especialmente del seguro de vehículos. Ante esto, la empresa decide realizar una medición del comportamiento de sus clientes en cuanto a la cantidad de reparaciones que ha tenido, el monto de las reparaciones, la antigüedad del seguro y el promedio de calificación de conducción entregada por el sistema de telemetría instalado. Usted hizo un análisis de la información y generó los deciles de las variables obteniendo la siguiente tabla:\n",
    "\n",
    "![Tabla de Deciles](img/tabla_deciles.png)\n",
    "\n",
    "Además, logró identificar que a medida que las reparaciones aumentan o su monto aumenta la prima aumenta y si la antigüedad aumenta y la calificación aumenta la prima disminuye. Sabiendo\n",
    "que las primas oscilan entre 1.700.000 y 6.200.000. Construya un motor de inferencia borrosa tipo MAMDANI que le permita determinar que, ante 9 reparaciones, de un monto de 3.400.000 en una prima de 14 meses de un cliente con calificación de 65 puntos, cuál sería el valor estimado de su prima.\n",
    "\n",
    "El equipo de BI les comparto la siguiente información comparativa de la prima con respecto a las variables de estudio.\n",
    "\n",
    "![Tabla de Antecedentes](img/tabla_antecedentes.png)\n",
    "\n",
    "Construya un modelo tipo TAKAGI – SUGENO que le permita determinar la estimación de la prima para un cliente con las condiciones anteriores.\n",
    "\n",
    "Se identifica que un motor Tsukamoto ayuda a mejorar la precisión del modelo. Construya un motor Tsukamoto para el modelo en las mismas condiciones.\n",
    "\n",
    "Ante las condiciones presentadas, se espera una prima de 4.200.000. Elija el mejor modelo que se adapte a la respuesta."
   ]
  }
 ],
 "metadata": {
  "kernelspec": {
   "display_name": "andec_env",
   "language": "python",
   "name": "python3"
  },
  "language_info": {
   "name": "python",
   "version": "3.12.6"
  }
 },
 "nbformat": 4,
 "nbformat_minor": 2
}
